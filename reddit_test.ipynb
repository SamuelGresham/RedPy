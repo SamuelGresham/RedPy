{
 "cells": [
  {
   "cell_type": "markdown",
   "id": "c9c4584e",
   "metadata": {},
   "source": [
    "# Reddit API Test\n",
    "This is a test of using the freely available Reddit API to scrape posts and comments."
   ]
  },
  {
   "cell_type": "markdown",
   "id": "ca560c9f",
   "metadata": {},
   "source": [
    "## Section 1: Authentication\n",
    "This section must be run to authenticate with Reddit and retrieve an access token."
   ]
  },
  {
   "cell_type": "code",
   "execution_count": 1,
   "id": "cd6571a2",
   "metadata": {},
   "outputs": [
    {
     "name": "stdout",
     "output_type": "stream",
     "text": [
      "Successfully logged in as nahhhh-\n"
     ]
    }
   ],
   "source": [
    "import requests\n",
    "import requests.auth\n",
    "import os \n",
    "from dotenv import load_dotenv\n",
    "\n",
    "# Load the .env file\n",
    "load_dotenv()\n",
    "\n",
    "# Load .env variables into storage\n",
    "client_id = os.getenv(\"REDDIT_CLIENT_ID\")\n",
    "client_secret = os.getenv(\"REDDIT_SECRET\")\n",
    "username = os.getenv(\"REDDIT_USERNAME\")\n",
    "password = os.getenv(\"REDDIT_PASSWORD\")\n",
    "\n",
    "# Set up initial authentication header\n",
    "auth = requests.auth.HTTPBasicAuth(client_id, client_secret)\n",
    "\n",
    "# Set up username and password for authentication\n",
    "data = {\n",
    "    'grant_type': 'password',\n",
    "    'username': username,\n",
    "    'password': password\n",
    "}\n",
    "\n",
    "# Apparently this header needs to be unique in order for the API to accept the request\n",
    "headers = {'User-Agent': 'PillScrape/0.0.1'}\n",
    "\n",
    "# Make initial auth request and add the token to future request headers\n",
    "try: \n",
    "    res = requests.post('https://www.reddit.com/api/v1/access_token', auth=auth, data=data, headers=headers)\n",
    "    TOKEN = res.json()['access_token']\n",
    "    headers['Authorization'] = f'bearer {TOKEN}'\n",
    "\n",
    "    # Make a test request\n",
    "    res = requests.get('https://oauth.reddit.com/api/v1/me', headers=headers)\n",
    "    data = res.json()\n",
    "except: \n",
    "    print(\"Something went wrong... are the login details correct?\")\n",
    "else:\n",
    "    print(\"Successfully logged in as \" + data[\"name\"])\n"
   ]
  },
  {
   "cell_type": "code",
   "execution_count": 17,
   "id": "912e81b8",
   "metadata": {},
   "outputs": [
    {
     "name": "stdout",
     "output_type": "stream",
     "text": [
      "[australia] NSW Govt pill-testing unit (by PolitiQuoll) → https://www.reddit.com/r/australia/comments/a5nh0m/nsw_govt_pilltesting_unit/\n",
      "[australia] NSW coroner to recommend pill testing be introduced at music festivals (by PerriX2390) → https://www.reddit.com/r/australia/comments/di04ao/nsw_coroner_to_recommend_pill_testing_be/\n",
      "[australian] NSW Labor rejects renewed calls for pill testing after festival deaths | Australian police and policing (by EASY_EEVEE) → https://www.reddit.com/r/australian/comments/16yello/nsw_labor_rejects_renewed_calls_for_pill_testing/\n",
      "[australia] NSW Labor rejects renewed calls for pill testing after festival deaths | Australian police and policing (by EASY_EEVEE) → https://www.reddit.com/r/australia/comments/16yelbb/nsw_labor_rejects_renewed_calls_for_pill_testing/\n",
      "[sydney] NSW Police Commissioner Rejects Pill Testing Despite Coroners Recommendation and Evidence (by flatman_88) → https://www.reddit.com/r/sydney/comments/dvych7/nsw_police_commissioner_rejects_pill_testing/\n",
      "[australia] NSW drug summit to be co-chaired by former state Liberal leader who denounced pill testing (by 2littleducks) → https://www.reddit.com/r/australia/comments/1fa0bdv/nsw_drug_summit_to_be_cochaired_by_former_state/\n",
      "[australia] NSW to introduce pill testing trial at music festivals from early 2025 to combat harm from illicit drugs (by overpopyoulater) → https://www.reddit.com/r/australia/comments/1hhbhtf/nsw_to_introduce_pill_testing_trial_at_music/\n",
      "[AustralianPolitics] NSW Labor rejects renewed calls for pill testing after festival deaths (by 89b3ea330bd60ede80ad) → https://www.reddit.com/r/AustralianPolitics/comments/16y7nzq/nsw_labor_rejects_renewed_calls_for_pill_testing/\n",
      "[australia] NSW To Hold Its First Ever Pill Testing Trial At Yours And Owls Festival (by satisfiedfools) → https://www.reddit.com/r/australia/comments/1istjej/nsw_to_hold_its_first_ever_pill_testing_trial_at/\n",
      "[australia] Stereosonic organisers endorse pill testing (by Ludgater) → https://www.reddit.com/r/australia/comments/48ik4x/stereosonic_organisers_endorse_pill_testing/\n",
      "[hardstyle] Midnight Mafia to participate in NSW pill testing trial (by DanceWize_nsw) → https://www.reddit.com/r/hardstyle/comments/1kabp20/midnight_mafia_to_participate_in_nsw_pill_testing/\n",
      "[triplej] NSW to introduce pill testing trial at music festivals from early 2025 to combat harm from illicit drugs (by Tranquilbez22) → https://www.reddit.com/r/triplej/comments/1hhfini/nsw_to_introduce_pill_testing_trial_at_music/\n",
      "[hardstyle] Pill Testing Trial @ Midnight Mafia (by MishkaAUS) → https://www.reddit.com/r/hardstyle/comments/1kexipr/pill_testing_trial_midnight_mafia/\n",
      "[friendlyjordies] \"Moderate\" NSW Liberals still opposing pill testing (by Jagtom83) → https://www.reddit.com/r/friendlyjordies/comments/1hhn82a/moderate_nsw_liberals_still_opposing_pill_testing/\n",
      "[australia] NSW Police Commissioner Rejects Pill Testing Despite Evidence and Coroners Recommendation (by flatman_88) → https://www.reddit.com/r/australia/comments/dvyj3m/nsw_police_commissioner_rejects_pill_testing/\n",
      "[australia] NSW Government Doubles Down: No Pill Testing, Tougher Penalties For Drugs At Festivals (by GorgeousGamer99) → https://www.reddit.com/r/australia/comments/9qqhfe/nsw_government_doubles_down_no_pill_testing/\n",
      "[triplej] Yours And Owls to be the first festival in NSW to have on site pill testing (by Tranquilbez22) → https://www.reddit.com/r/triplej/comments/1isspg8/yours_and_owls_to_be_the_first_festival_in_nsw_to/\n",
      "[australia] NSW Premier Mike Baird kills off Stereosonic pill-testing plan: \"What they are asking us to do is to allow illegal drugs\" (by narrative_device) → https://www.reddit.com/r/australia/comments/48ka0y/nsw_premier_mike_baird_kills_off_stereosonic/\n",
      "[australia] Michael Daley says NSW Labor will explore pill testing if elected (by madswell) → https://www.reddit.com/r/australia/comments/ab1zey/michael_daley_says_nsw_labor_will_explore_pill/\n",
      "[sydney] NSW drug summit to be co-chaired by former state Liberal leader who denounced pill testing (by satisfiedfools) → https://www.reddit.com/r/sydney/comments/1fa2m0x/nsw_drug_summit_to_be_cochaired_by_former_state/\n",
      "[AustralianPolitics] Decriminalise drugs, start pill testing: NSW coroner recommends sweeping reforms (by tightassbogan) → https://www.reddit.com/r/AustralianPolitics/comments/dt9kmg/decriminalise_drugs_start_pill_testing_nsw/\n",
      "[friendlyjordies] NSW Labor rejects renewed calls for pill testing after festival deaths | Australian police and policing (by EASY_EEVEE) → https://www.reddit.com/r/friendlyjordies/comments/16ygplb/nsw_labor_rejects_renewed_calls_for_pill_testing/\n",
      "[aus] NSW agrees to pill testing trial at music festivals amid calls from experts to decriminalise drugs (by 89b3ea330bd60ede80ad) → https://www.reddit.com/r/aus/comments/1hh80dz/nsw_agrees_to_pill_testing_trial_at_music/\n",
      "[AutoNewspaper] [AU] - First trial of pill testing at NSW music festival | Sydney Morning Herald (by AutoNewspaperAdmin) → https://www.reddit.com/r/AutoNewspaper/comments/1j0uw9a/au_first_trial_of_pill_testing_at_nsw_music/\n",
      "[SMHauto] [AU] - First trial of pill testing at NSW music festival (by AutoNewsAdmin) → https://www.reddit.com/r/SMHauto/comments/1j0ukid/au_first_trial_of_pill_testing_at_nsw_music/\n"
     ]
    }
   ],
   "source": [
    "data = {\n",
    "    'q': \"NSW Pill Testing\",\n",
    "    'sort': \"relevant\",\n",
    "    't': 'all'\n",
    "}\n",
    "\n",
    "res = requests.get('https://www.reddit.com/search.json', auth=auth, params=data, headers=headers)\n",
    "\n",
    "# data = res.json()\n",
    "children = res.json()[\"data\"][\"children\"]\n",
    "\n",
    "for post in children:\n",
    "    post_data = post[\"data\"]\n",
    "    title = post_data[\"title\"]\n",
    "    author = post_data[\"author\"]\n",
    "    url = post_data[\"permalink\"]\n",
    "    subreddit = post_data[\"subreddit\"]\n",
    "\n",
    "    print(f\"[{subreddit}] {title} (by {author}) → https://www.reddit.com{url}\")\n"
   ]
  }
 ],
 "metadata": {
  "kernelspec": {
   "display_name": "Python 3",
   "language": "python",
   "name": "python3"
  },
  "language_info": {
   "codemirror_mode": {
    "name": "ipython",
    "version": 3
   },
   "file_extension": ".py",
   "mimetype": "text/x-python",
   "name": "python",
   "nbconvert_exporter": "python",
   "pygments_lexer": "ipython3",
   "version": "3.11.0"
  }
 },
 "nbformat": 4,
 "nbformat_minor": 5
}
